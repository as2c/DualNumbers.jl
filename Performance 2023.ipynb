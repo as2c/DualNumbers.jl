{
 "cells": [
  {
   "cell_type": "markdown",
   "id": "brutal-catalyst",
   "metadata": {},
   "source": [
    "# Profiling"
   ]
  },
  {
   "cell_type": "code",
   "execution_count": 7,
   "id": "bright-resort",
   "metadata": {},
   "outputs": [],
   "source": [
    "# Silly, slow example"
   ]
  },
  {
   "cell_type": "code",
   "execution_count": 20,
   "id": "australian-campus",
   "metadata": {},
   "outputs": [],
   "source": [
    "using Profile\n",
    "using LinearAlgebra"
   ]
  },
  {
   "cell_type": "code",
   "execution_count": 4,
   "id": "amended-organ",
   "metadata": {},
   "outputs": [
    {
     "data": {
      "text/plain": [
       "30×30 Matrix{Float64}:\n",
       " -0.914795    -1.96561    -0.903287   …   1.18039    -1.5253      0.101923\n",
       "  0.00843821  -0.243326    1.43056       -0.394222   -0.947004   -0.0743636\n",
       "  0.0720819    0.0656803   1.41185       -0.460671    0.434779   -0.10102\n",
       "  0.367917     1.88246    -0.645694      -0.227686   -0.643866    0.14855\n",
       "  0.0829269   -0.220208    0.771834      -0.885813   -1.5749      0.387158\n",
       " -0.862632    -0.345017    0.560816   …   0.43014    -0.152852    0.717941\n",
       "  0.608336    -0.732846    0.959007       1.05239     0.509366    1.3045\n",
       "  1.91098     -0.24113    -0.872244       1.47294    -0.127014   -0.00670381\n",
       " -0.685637    -0.742322   -0.680385      -2.44592     0.0817437   0.822828\n",
       " -0.17129     -1.31511     0.355184      -2.88387     0.710741   -0.609816\n",
       " -0.413969     0.28541    -1.29035    …   1.74428     0.299926   -0.73581\n",
       "  0.678496    -0.24379    -2.48961        1.41738    -0.839976   -0.862686\n",
       " -0.677874    -0.137215    0.240916       1.04924    -0.920848   -1.15836\n",
       "  ⋮                                   ⋱                          \n",
       " -0.177616     0.193091   -0.164352       1.18974    -0.738383    1.59679\n",
       "  0.294308     1.55214     0.035288       0.917863    0.337788    0.0623474\n",
       " -1.21495      1.10983    -0.340086   …   0.659199   -0.975382   -1.17327\n",
       "  0.786965    -0.301331   -0.0125933     -1.21902    -0.244449    0.296674\n",
       "  0.400953    -0.174327    0.85368        2.2618      0.970033    1.05259\n",
       " -1.74469      0.992676   -0.920749      -0.609001    0.172568   -0.501068\n",
       " -0.608454     0.894285   -1.01981       -0.43592    -0.593962   -0.23451\n",
       "  0.735659    -0.0578437   1.34229    …   0.0862251  -1.36111    -1.63966\n",
       "  1.70152      0.773783   -1.53397       -3.0399     -0.954964   -0.312301\n",
       "  1.45371     -0.375508    0.813198      -0.523215    0.463243   -0.102634\n",
       " -0.99754      1.21367    -0.26775        0.24653    -0.571854    0.532451\n",
       " -0.598166     0.193917   -0.642818       1.80367     1.75874    -0.817175"
      ]
     },
     "execution_count": 4,
     "metadata": {},
     "output_type": "execute_result"
    }
   ],
   "source": [
    "A = randn(30, 30)"
   ]
  },
  {
   "cell_type": "code",
   "execution_count": 18,
   "id": "south-joining",
   "metadata": {},
   "outputs": [
    {
     "name": "stdout",
     "output_type": "stream",
     "text": [
      "  4.695663 seconds (3.00 M allocations: 13.724 GiB, 6.78% gc time)\n"
     ]
    }
   ],
   "source": [
    "@time for i in 1:1000000\n",
    "   A = A * A\n",
    "   A /= maximum(A)\n",
    "end"
   ]
  },
  {
   "cell_type": "code",
   "execution_count": 13,
   "id": "reduced-aquarium",
   "metadata": {},
   "outputs": [],
   "source": [
    "@profile for i in 1:1000000\n",
    "   A = A * A\n",
    "   A /= maximum(A)\n",
    "end"
   ]
  },
  {
   "cell_type": "code",
   "execution_count": 14,
   "id": "distinct-plastic",
   "metadata": {},
   "outputs": [
    {
     "name": "stdout",
     "output_type": "stream",
     "text": [
      "Overhead ╎ [+additional indent] Count File:Line; Function\n",
      "=========================================================\n",
      "   1╎2     @Base/arraymath.jl:24; /(A::Matrix{Float64}, B::Float64)\n",
      "    ╎ 1     @Base/broadcast.jl:849; broadcast_preserving_zero_d\n",
      "    ╎  1     @Base/broadcast.jl:860; materialize\n",
      "    ╎   1     @Base/broadcast.jl:885; copy\n",
      "    ╎    1     @Base/broadcast.jl:211; similar\n",
      "    ╎     1     @Base/broadcast.jl:212; similar\n",
      "    ╎    ╎ 1     .../abstractarray.jl:840; similar\n",
      "    ╎    ╎  1     ...abstractarray.jl:841; similar\n",
      "    ╎    ╎   1     @Base/boot.jl:476; Array\n",
      "    ╎    ╎    1     @Base/boot.jl:469; Array\n",
      "   1╎    ╎     1     @Base/boot.jl:461; Array\n",
      "   1╎1     @Base/range.jl:352; steprange_last(start::Int64, s...\n",
      "   1╎1     @Base/reduce.jl:0; mapreduce_impl(f::typeof(ident...\n",
      "    ╎2     @Base/reduce.jl:645; mapreduce_impl(f::typeof(ident...\n",
      "    ╎ 2     @Base/range.jl:22; Colon\n",
      "    ╎  2     @Base/range.jl:24; _colon\n",
      "    ╎   2     @Base/range.jl:369; StepRange\n",
      "    ╎    2     @Base/range.jl:316; StepRange\n",
      "   2╎     2     @Base/range.jl:321; steprange_last(start::Int64...\n",
      "    ╎10634 @Base/task.jl:484; (::IJulia.var\"#15#18\")()\n",
      "    ╎ 10634 ...ia/src/eventloop.jl:8; eventloop(socket::ZMQ.Socket)\n",
      "    ╎  10634 @Base/essentials.jl:726; invokelatest\n",
      "    ╎   10634 @Base/essentials.jl:729; #invokelatest#2\n",
      "    ╎    10634 ...execute_request.jl:67; execute_request(socket::ZMQ....\n",
      "    ╎     10634 ...oftGlobalScope.jl:65; softscope_include_string(m::...\n",
      "    ╎    ╎ 10634 @Base/loading.jl:1428; include_string(mapexpr::ty...\n",
      "   6╎    ╎  10634 @Base/boot.jl:368; eval\n",
      "   2╎    ╎   10628 ...e/src/Profile.jl:27; top-level scope\n",
      "  42╎    ╎    2302  In[13]:2; macro expansion\n",
      "   1╎    ╎     1     ...a/src/matmul.jl:146; *(A::Matrix{Float64}, B:...\n",
      "   1╎    ╎     2259  ...a/src/matmul.jl:148; *(A::Matrix{Float64}, B:...\n",
      "    ╎    ╎    ╎ 721   @Base/array.jl:378; similar\n",
      "    ╎    ╎    ╎  721   @Base/boot.jl:469; Array\n",
      " 721╎    ╎    ╎   721   @Base/boot.jl:461; Array\n",
      "    ╎    ╎    ╎ 1537  ...a/src/matmul.jl:276; mul!\n",
      "   2╎    ╎    ╎  1537  .../src/matmul.jl:161; mul!\n",
      "   1╎    ╎    ╎   1     ...a/src/blas.jl:1495; gemm!(transA::Char, tr...\n",
      "   1╎    ╎    ╎   1     ...src/matmul.jl:639; gemm_wrapper!(C::Matri...\n",
      "    ╎    ╎    ╎   1     ...src/matmul.jl:642; gemm_wrapper!(C::Matri...\n",
      "    ╎    ╎    ╎    1     ...src/matmul.jl:725; lapack_size\n",
      "    ╎    ╎    ╎     1     @Base/char.jl:213; ==\n",
      "   1╎    ╎    ╎    ╎ 1     .../promotion.jl:477; ==\n",
      "    ╎    ╎    ╎   1     ...src/matmul.jl:643; gemm_wrapper!(C::Matri...\n",
      "    ╎    ╎    ╎    1     ...src/matmul.jl:725; lapack_size\n",
      "   1╎    ╎    ╎     1     @Base/array.jl:150; size\n",
      "   1╎    ╎    ╎   1531  ...src/matmul.jl:674; gemm_wrapper!(C::Matri...\n",
      "   1╎    ╎    ╎    1     ...earAlgebra.jl:213; _chkstride1(ok::Bool)\n",
      "   3╎    ╎    ╎    3     ...a/src/blas.jl:1495; gemm!(transA::Char, t...\n",
      "    ╎    ╎    ╎    1     ...a/src/blas.jl:1504; gemm!(transA::Char, t...\n",
      "    ╎    ╎    ╎     1     @Base/char.jl:213; ==\n",
      "   1╎    ╎    ╎    ╎ 1     .../promotion.jl:477; ==\n",
      "   1╎    ╎    ╎    1     ...a/src/blas.jl:1508; gemm!(transA::Char, t...\n",
      "    ╎    ╎    ╎    1     ...a/src/blas.jl:1511; gemm!(transA::Char, t...\n",
      "    ╎    ╎    ╎     1     ...earAlgebra.jl:212; chkstride1\n",
      "   1╎    ╎    ╎    ╎ 1     ...earAlgebra.jl:214; _chkstride1\n",
      "    ╎    ╎    ╎    1     ...a/src/blas.jl:1512; gemm!(transA::Char, t...\n",
      "    ╎    ╎    ╎     1     ...earAlgebra.jl:212; chkstride1\n",
      "   1╎    ╎    ╎    ╎ 1     ...earAlgebra.jl:214; _chkstride1\n",
      "1516╎    ╎    ╎    1519  ...a/src/blas.jl:1514; gemm!(transA::Char, t...\n",
      "    ╎    ╎    ╎     3     ...essentials.jl:412; cconvert\n",
      "    ╎    ╎    ╎    ╎ 3     ...refpointer.jl:104; convert\n",
      "   3╎    ╎    ╎    ╎  3     ...e/refvalue.jl:8; RefValue\n",
      "   3╎    ╎    ╎    3     ...a/src/blas.jl:1523; gemm!(transA::Char, t...\n",
      " 327╎    ╎    3339  In[13]:3; macro expansion\n",
      "   1╎    ╎     2105  @Base/arraymath.jl:24; /(A::Matrix{Float64}, B:...\n",
      "    ╎    ╎    ╎ 2104  @Base/broadcast.jl:849; broadcast_preserving_zero_d\n",
      "    ╎    ╎    ╎  2104  ...e/broadcast.jl:860; materialize\n",
      "    ╎    ╎    ╎   2103  ...e/broadcast.jl:885; copy\n",
      "    ╎    ╎    ╎    1555  .../broadcast.jl:913; copyto!\n",
      "    ╎    ╎    ╎     1     .../broadcast.jl:949; copyto!\n",
      "    ╎    ╎    ╎    ╎ 1     @Base/tuple.jl:398; ==\n",
      "    ╎    ╎    ╎    ╎  1     @Base/tuple.jl:402; _eq\n",
      "    ╎    ╎    ╎    ╎   1     @Base/range.jl:1111; ==\n",
      "   1╎    ╎    ╎    ╎    1     ...romotion.jl:477; ==\n",
      "    ╎    ╎    ╎     8     .../broadcast.jl:957; copyto!\n",
      "    ╎    ╎    ╎    ╎ 8     .../broadcast.jl:940; preprocess\n",
      "    ╎    ╎    ╎    ╎  8     ...broadcast.jl:943; preprocess_args\n",
      "    ╎    ╎    ╎    ╎   8     ...broadcast.jl:941; preprocess\n",
      "    ╎    ╎    ╎    ╎    8     ...roadcast.jl:637; extrude\n",
      "    ╎    ╎    ╎    ╎     8     ...roadcast.jl:586; newindexer\n",
      "    ╎    ╎    ╎    ╎    ╎ 8     ...roadcast.jl:587; shapeindexer\n",
      "    ╎    ╎    ╎    ╎    ╎  8     ...oadcast.jl:591; _newindexer\n",
      "    ╎    ╎    ╎    ╎    ╎   8     ...oadcast.jl:592; _newindexer\n",
      "    ╎    ╎    ╎    ╎    ╎    8     ...rators.jl:282; !=\n",
      "   8╎    ╎    ╎    ╎    ╎     8     ...motion.jl:477; ==\n",
      "    ╎    ╎    ╎     1536  .../broadcast.jl:960; copyto!\n",
      "  15╎    ╎    ╎    ╎ 15    ...e/simdloop.jl:0; macro expansion\n",
      "   2╎    ╎    ╎    ╎ 2     ...e/simdloop.jl:72; macro expansion\n",
      "  34╎    ╎    ╎    ╎ 38    ...e/simdloop.jl:75; macro expansion\n",
      "   4╎    ╎    ╎    ╎  4     @Base/int.jl:83; <\n",
      "    ╎    ╎    ╎    ╎ 1329  ...e/simdloop.jl:77; macro expansion\n",
      "    ╎    ╎    ╎    ╎  1329  ...broadcast.jl:961; macro expansion\n",
      "    ╎    ╎    ╎    ╎   180   ...broadcast.jl:597; getindex\n",
      "    ╎    ╎    ╎    ╎    13    ...roadcast.jl:642; _broadcast_getindex\n",
      "    ╎    ╎    ╎    ╎     13    ...roadcast.jl:666; _getindex\n",
      "    ╎    ╎    ╎    ╎    ╎ 13    ...roadcast.jl:636; _broadcast_getindex\n",
      "    ╎    ╎    ╎    ╎    ╎  13    ...nsional.jl:672; getindex\n",
      "  13╎    ╎    ╎    ╎    ╎   13    ...e/array.jl:925; getindex\n",
      "    ╎    ╎    ╎    ╎    167   ...roadcast.jl:643; _broadcast_getindex\n",
      "    ╎    ╎    ╎    ╎     167   ...roadcast.jl:670; _broadcast_getinde...\n",
      " 167╎    ╎    ╎    ╎    ╎ 167   @Base/float.jl:386; /\n",
      "    ╎    ╎    ╎    ╎   1149  ...mensional.jl:674; setindex!\n",
      "1149╎    ╎    ╎    ╎    1149  @Base/array.jl:968; setindex!\n",
      "    ╎    ╎    ╎    ╎ 137   ...e/simdloop.jl:78; macro expansion\n",
      " 137╎    ╎    ╎    ╎  137   @Base/int.jl:87; +\n",
      "   4╎    ╎    ╎    ╎ 15    ...e/simdloop.jl:84; macro expansion\n",
      "    ╎    ╎    ╎    ╎  11    ...mensional.jl:404; iterate\n",
      "  11╎    ╎    ╎    ╎   11    ...mensional.jl:423; __inc\n",
      "  10╎    ╎    ╎     10    ...e/simdloop.jl:0; copyto!\n",
      "    ╎    ╎    ╎    548   .../broadcast.jl:211; similar\n",
      "    ╎    ╎    ╎     548   .../broadcast.jl:212; similar\n",
      "    ╎    ╎    ╎    ╎ 548   ...tractarray.jl:840; similar\n",
      "    ╎    ╎    ╎    ╎  548   ...ractarray.jl:841; similar\n",
      "    ╎    ╎    ╎    ╎   548   @Base/boot.jl:476; Array\n",
      "    ╎    ╎    ╎    ╎    548   @Base/boot.jl:469; Array\n",
      " 548╎    ╎    ╎    ╎     548   @Base/boot.jl:461; Array\n",
      "    ╎    ╎    ╎   1     ...e/broadcast.jl:281; instantiate\n",
      "    ╎    ╎    ╎    1     .../broadcast.jl:499; combine_axes\n",
      "    ╎    ╎    ╎     1     .../broadcast.jl:504; broadcast_shape\n",
      "   1╎    ╎    ╎    ╎ 1     .../broadcast.jl:508; _bcs\n",
      "    ╎    ╎     2     @Base/reduce.jl:424; _mapreduce(f::typeof(ide...\n",
      "    ╎    ╎    ╎ 2     @Base/indices.jl:457; LinearIndices\n",
      "    ╎    ╎    ╎  2     ...bstractarray.jl:95; axes\n",
      "   2╎    ╎    ╎   2     @Base/array.jl:152; size\n",
      "   1╎    ╎     905   @Base/reducedim.jl:994; maximum(a::Matrix{Float64})\n",
      "    ╎    ╎    ╎ 904   @Base/reducedim.jl:994; #maximum#780\n",
      "    ╎    ╎    ╎  904   ...e/reducedim.jl:998; _maximum\n",
      "    ╎    ╎    ╎   904   ...e/reducedim.jl:998; #_maximum#782\n",
      "    ╎    ╎    ╎    904   .../reducedim.jl:999; _maximum\n",
      "    ╎    ╎    ╎     904   .../reducedim.jl:999; #_maximum#783\n",
      "    ╎    ╎    ╎    ╎ 904   .../reducedim.jl:357; mapreduce\n",
      "    ╎    ╎    ╎    ╎  904   ...reducedim.jl:357; #mapreduce#765\n",
      "    ╎    ╎    ╎    ╎   904   ...reducedim.jl:365; _mapreduce_dim\n",
      "   2╎    ╎    ╎    ╎    904   ...e/reduce.jl:442; _mapreduce(f::typeo...\n",
      "   2╎    ╎    ╎    ╎     2     ...e/reduce.jl:0; mapreduce_impl(f::...\n",
      "   1╎    ╎    ╎    ╎     1     ...e/reduce.jl:644; mapreduce_impl(f::...\n",
      "    ╎    ╎    ╎    ╎     13    ...e/reduce.jl:645; mapreduce_impl(f::...\n",
      "    ╎    ╎    ╎    ╎    ╎ 13    @Base/range.jl:22; Colon\n",
      "    ╎    ╎    ╎    ╎    ╎  13    @Base/range.jl:24; _colon\n",
      "    ╎    ╎    ╎    ╎    ╎   13    ...e/range.jl:369; StepRange\n",
      "   2╎    ╎    ╎    ╎    ╎    13    .../range.jl:316; StepRange\n",
      "    ╎    ╎    ╎    ╎    ╎     5     .../range.jl:334; steprange_last(...\n",
      "    ╎    ╎    ╎    ╎    ╎    ╎ 5     ...rators.jl:382; >\n",
      "   5╎    ╎    ╎    ╎    ╎    ╎  5     @Base/int.jl:83; <\n",
      "   4╎    ╎    ╎    ╎    ╎     4     .../range.jl:339; steprange_last(...\n",
      "    ╎    ╎    ╎    ╎    ╎     1     .../range.jl:346; steprange_last(...\n",
      "   1╎    ╎    ╎    ╎    ╎    ╎ 1     @Base/int.jl:289; rem\n",
      "   1╎    ╎    ╎    ╎    ╎     1     .../range.jl:349; steprange_last(...\n",
      "    ╎    ╎    ╎    ╎     161   ...e/reduce.jl:646; mapreduce_impl(f::...\n",
      "    ╎    ╎    ╎    ╎    ╎ 161   ...e/reduce.jl:619; _fast\n",
      " 161╎    ╎    ╎    ╎    ╎  161   ...entials.jl:489; ifelse\n",
      "   1╎    ╎    ╎    ╎     233   ...e/reduce.jl:650; mapreduce_impl(f::...\n",
      "    ╎    ╎    ╎    ╎    ╎ 232   @Base/range.jl:883; iterate\n",
      " 232╎    ╎    ╎    ╎    ╎  232   ...omotion.jl:477; ==\n",
      "    ╎    ╎    ╎    ╎     2     ...e/reduce.jl:651; mapreduce_impl(f::...\n",
      "   1╎    ╎    ╎    ╎    ╎ 1     ...actarray.jl:666; checkbounds\n",
      "    ╎    ╎    ╎    ╎    ╎ 1     ...actarray.jl:668; checkbounds\n",
      "    ╎    ╎    ╎    ╎    ╎  1     ...ctarray.jl:653; checkbounds\n",
      "    ╎    ╎    ╎    ╎    ╎   1     ...ctarray.jl:727; checkindex\n",
      "   1╎    ╎    ╎    ╎    ╎    1     @Base/int.jl:481; <=\n",
      "    ╎    ╎    ╎    ╎     10    ...e/reduce.jl:655; mapreduce_impl(f::...\n",
      "    ╎    ╎    ╎    ╎    ╎ 10    @Base/math.jl:760; max\n",
      "    ╎    ╎    ╎    ╎    ╎  2     @Base/bool.jl:154; <\n",
      "   2╎    ╎    ╎    ╎    ╎   2     @Base/bool.jl:35; !\n",
      "   4╎    ╎    ╎    ╎    ╎  4     ...entials.jl:489; ifelse\n",
      "    ╎    ╎    ╎    ╎    ╎  4     ...erators.jl:382; >\n",
      "   4╎    ╎    ╎    ╎    ╎   4     ...e/float.jl:412; <\n",
      "    ╎    ╎    ╎    ╎     1     ...e/reduce.jl:656; mapreduce_impl(f::...\n",
      "    ╎    ╎    ╎    ╎    ╎ 1     @Base/range.jl:5; Colon\n",
      "    ╎    ╎    ╎    ╎    ╎  1     ...e/range.jl:393; UnitRange\n",
      "   1╎    ╎    ╎    ╎    ╎   1     ...e/range.jl:400; unitrange_last\n",
      "    ╎    ╎    ╎    ╎     395   ...e/reduce.jl:658; mapreduce_impl(f::...\n",
      "    ╎    ╎    ╎    ╎    ╎ 395   @Base/math.jl:760; max\n",
      "    ╎    ╎    ╎    ╎    ╎  90    @Base/bool.jl:154; <\n",
      "  46╎    ╎    ╎    ╎    ╎   46    @Base/bool.jl:35; !\n",
      "  44╎    ╎    ╎    ╎    ╎   44    @Base/bool.jl:38; &\n",
      " 260╎    ╎    ╎    ╎    ╎  260   ...entials.jl:489; ifelse\n",
      "  45╎    ╎    ╎    ╎    ╎  45    ...atfuncs.jl:15; signbit\n",
      "    ╎    ╎    ╎    ╎     82    ...e/reduce.jl:659; mapreduce_impl(f::...\n",
      "    ╎    ╎    ╎    ╎    ╎ 82    @Base/range.jl:883; iterate\n",
      "  82╎    ╎    ╎    ╎    ╎  82    ...omotion.jl:477; ==\n",
      "   1╎    ╎    ╎    ╎     2     ...e/reduce.jl:664; mapreduce_impl(f::...\n",
      "    ╎    ╎    ╎    ╎    ╎ 1     ...e/reduce.jl:630; isbadzero\n",
      "   1╎    ╎    ╎    ╎    ╎  1     ...e/float.jl:410; ==\n",
      "  27╎    ╎    2096  In[9]:2; macro expansion\n",
      "   2╎    ╎     2     ...a/src/matmul.jl:146; *(A::Matrix{Float64}, B:...\n",
      "    ╎    ╎     2066  ...a/src/matmul.jl:148; *(A::Matrix{Float64}, B:...\n",
      "    ╎    ╎    ╎ 551   @Base/array.jl:378; similar\n",
      "    ╎    ╎    ╎  551   @Base/boot.jl:469; Array\n",
      " 551╎    ╎    ╎   551   @Base/boot.jl:461; Array\n",
      "   1╎    ╎    ╎ 1     @Base/array.jl:150; size\n",
      "    ╎    ╎    ╎ 1514  ...a/src/matmul.jl:276; mul!\n",
      "   1╎    ╎    ╎  1514  .../src/matmul.jl:161; mul!\n",
      "   1╎    ╎    ╎   1     ...a/src/blas.jl:1523; gemm!(transA::Char, tr...\n",
      "   2╎    ╎    ╎   2     ...src/matmul.jl:0; gemm_wrapper!(C::Matri...\n",
      "   4╎    ╎    ╎   4     ...src/matmul.jl:639; gemm_wrapper!(C::Matri...\n",
      "    ╎    ╎    ╎   1     ...src/matmul.jl:642; gemm_wrapper!(C::Matri...\n",
      "    ╎    ╎    ╎    1     ...src/matmul.jl:725; lapack_size\n",
      "    ╎    ╎    ╎     1     @Base/char.jl:213; ==\n",
      "   1╎    ╎    ╎    ╎ 1     .../promotion.jl:477; ==\n",
      "    ╎    ╎    ╎   1     ...src/matmul.jl:643; gemm_wrapper!(C::Matri...\n",
      "    ╎    ╎    ╎    1     ...src/matmul.jl:725; lapack_size\n",
      "    ╎    ╎    ╎     1     @Base/char.jl:213; ==\n",
      "   1╎    ╎    ╎    ╎ 1     .../promotion.jl:477; ==\n",
      "   2╎    ╎    ╎   1504  ...src/matmul.jl:674; gemm_wrapper!(C::Matri...\n",
      "    ╎    ╎    ╎    2     ...a/src/blas.jl:1504; gemm!(transA::Char, t...\n",
      "    ╎    ╎    ╎     2     @Base/char.jl:213; ==\n",
      "   2╎    ╎    ╎    ╎ 2     .../promotion.jl:477; ==\n",
      "    ╎    ╎    ╎    1     ...a/src/blas.jl:1511; gemm!(transA::Char, t...\n",
      "    ╎    ╎    ╎     1     ...earAlgebra.jl:212; chkstride1\n",
      "   1╎    ╎    ╎    ╎ 1     ...earAlgebra.jl:214; _chkstride1\n",
      "1496╎    ╎    ╎    1499  ...a/src/blas.jl:1514; gemm!(transA::Char, t...\n",
      "    ╎    ╎    ╎     1     ...essentials.jl:412; cconvert\n",
      "    ╎    ╎    ╎    ╎ 1     ...refpointer.jl:104; convert\n",
      "   1╎    ╎    ╎    ╎  1     ...e/refvalue.jl:8; RefValue\n",
      "    ╎    ╎    ╎     2     .../promotion.jl:488; max\n",
      "   1╎    ╎    ╎    ╎ 1     ...essentials.jl:489; ifelse\n",
      "   1╎    ╎    ╎    ╎ 1     @Base/int.jl:83; <\n",
      "   1╎    ╎     1     ...a/src/matmul.jl:0; gemm_wrapper!(C::Matrix{...\n",
      " 266╎    ╎    2888  In[9]:3; macro expansion\n",
      "   5╎    ╎     1761  @Base/arraymath.jl:24; /(A::Matrix{Float64}, B:...\n",
      "    ╎    ╎    ╎ 1756  @Base/broadcast.jl:849; broadcast_preserving_zero_d\n",
      "    ╎    ╎    ╎  1756  ...e/broadcast.jl:860; materialize\n",
      "    ╎    ╎    ╎   1755  ...e/broadcast.jl:885; copy\n",
      "    ╎    ╎    ╎    1399  .../broadcast.jl:913; copyto!\n",
      "    ╎    ╎    ╎     10    .../broadcast.jl:957; copyto!\n",
      "    ╎    ╎    ╎    ╎ 10    .../broadcast.jl:940; preprocess\n",
      "    ╎    ╎    ╎    ╎  10    ...broadcast.jl:943; preprocess_args\n",
      "    ╎    ╎    ╎    ╎   10    ...broadcast.jl:941; preprocess\n",
      "    ╎    ╎    ╎    ╎    2     ...roadcast.jl:934; broadcast_unalias\n",
      "    ╎    ╎    ╎    ╎     2     ...actarray.jl:1427; unalias\n",
      "   1╎    ╎    ╎    ╎    ╎ 2     ...ctarray.jl:1462; mightalias\n",
      "    ╎    ╎    ╎    ╎    ╎  1     ...ctarray.jl:1469; _isdisjoint\n",
      "    ╎    ╎    ╎    ╎    ╎   1     ...erators.jl:282; !=\n",
      "   1╎    ╎    ╎    ╎    ╎    1     ...motion.jl:477; ==\n",
      "    ╎    ╎    ╎    ╎    8     ...roadcast.jl:637; extrude\n",
      "    ╎    ╎    ╎    ╎     8     ...roadcast.jl:586; newindexer\n",
      "    ╎    ╎    ╎    ╎    ╎ 8     ...roadcast.jl:587; shapeindexer\n",
      "    ╎    ╎    ╎    ╎    ╎  8     ...oadcast.jl:591; _newindexer\n",
      "    ╎    ╎    ╎    ╎    ╎   8     ...oadcast.jl:592; _newindexer\n",
      "    ╎    ╎    ╎    ╎    ╎    8     ...rators.jl:282; !=\n",
      "   8╎    ╎    ╎    ╎    ╎     8     ...motion.jl:477; ==\n",
      "    ╎    ╎    ╎     1374  .../broadcast.jl:960; copyto!\n",
      "   7╎    ╎    ╎    ╎ 7     ...e/simdloop.jl:0; macro expansion\n",
      "   1╎    ╎    ╎    ╎ 1     ...e/simdloop.jl:72; macro expansion\n",
      "  34╎    ╎    ╎    ╎ 57    ...e/simdloop.jl:75; macro expansion\n",
      "  23╎    ╎    ╎    ╎  23    @Base/int.jl:83; <\n",
      "    ╎    ╎    ╎    ╎ 1081  ...e/simdloop.jl:77; macro expansion\n",
      "    ╎    ╎    ╎    ╎  1081  ...broadcast.jl:961; macro expansion\n",
      "    ╎    ╎    ╎    ╎   182   ...broadcast.jl:597; getindex\n",
      "    ╎    ╎    ╎    ╎    19    ...roadcast.jl:642; _broadcast_getindex\n",
      "    ╎    ╎    ╎    ╎     19    ...roadcast.jl:666; _getindex\n",
      "    ╎    ╎    ╎    ╎    ╎ 19    ...roadcast.jl:636; _broadcast_getindex\n",
      "    ╎    ╎    ╎    ╎    ╎  19    ...nsional.jl:672; getindex\n",
      "  19╎    ╎    ╎    ╎    ╎   19    ...e/array.jl:925; getindex\n",
      "    ╎    ╎    ╎    ╎    163   ...roadcast.jl:643; _broadcast_getindex\n",
      "    ╎    ╎    ╎    ╎     163   ...roadcast.jl:670; _broadcast_getinde...\n",
      " 162╎    ╎    ╎    ╎    ╎ 163   @Base/float.jl:386; /\n",
      "    ╎    ╎    ╎    ╎   899   ...mensional.jl:674; setindex!\n",
      " 899╎    ╎    ╎    ╎    899   @Base/array.jl:968; setindex!\n",
      "    ╎    ╎    ╎    ╎ 210   ...e/simdloop.jl:78; macro expansion\n",
      " 210╎    ╎    ╎    ╎  210   @Base/int.jl:87; +\n",
      "   9╎    ╎    ╎    ╎ 18    ...e/simdloop.jl:84; macro expansion\n",
      "    ╎    ╎    ╎    ╎  9     ...mensional.jl:404; iterate\n",
      "   9╎    ╎    ╎    ╎   9     ...mensional.jl:423; __inc\n",
      "  15╎    ╎    ╎     15    ...e/simdloop.jl:0; copyto!\n",
      "    ╎    ╎    ╎    356   .../broadcast.jl:211; similar\n",
      "    ╎    ╎    ╎     356   .../broadcast.jl:212; similar\n",
      "    ╎    ╎    ╎    ╎ 356   ...tractarray.jl:840; similar\n",
      "    ╎    ╎    ╎    ╎  356   ...ractarray.jl:841; similar\n",
      "    ╎    ╎    ╎    ╎   356   @Base/boot.jl:476; Array\n",
      "    ╎    ╎    ╎    ╎    356   @Base/boot.jl:469; Array\n",
      " 356╎    ╎    ╎    ╎     356   @Base/boot.jl:461; Array\n",
      "    ╎    ╎    ╎   1     ...e/broadcast.jl:281; instantiate\n",
      "    ╎    ╎    ╎    1     .../broadcast.jl:499; combine_axes\n",
      "    ╎    ╎    ╎     1     ...tractarray.jl:95; axes\n",
      "   1╎    ╎    ╎    ╎ 1     @Base/array.jl:152; size\n",
      "    ╎    ╎     1     @Base/reduce.jl:638; mapreduce_impl(f::typeof...\n",
      "   1╎    ╎    ╎ 1     @Base/reduce.jl:636; getindex\n",
      "   1╎    ╎     859   @Base/reducedim.jl:994; maximum(a::Matrix{Float64})\n",
      "    ╎    ╎    ╎ 858   @Base/reducedim.jl:994; #maximum#780\n",
      "    ╎    ╎    ╎  858   ...e/reducedim.jl:998; _maximum\n",
      "    ╎    ╎    ╎   858   ...e/reducedim.jl:998; #_maximum#782\n",
      "    ╎    ╎    ╎    858   .../reducedim.jl:999; _maximum\n",
      "    ╎    ╎    ╎     858   .../reducedim.jl:999; #_maximum#783\n",
      "    ╎    ╎    ╎    ╎ 858   .../reducedim.jl:357; mapreduce\n",
      "    ╎    ╎    ╎    ╎  858   ...reducedim.jl:357; #mapreduce#765\n",
      "   1╎    ╎    ╎    ╎   858   ...reducedim.jl:365; _mapreduce_dim\n",
      "    ╎    ╎    ╎    ╎    857   ...e/reduce.jl:442; _mapreduce(f::typeo...\n",
      "   2╎    ╎    ╎    ╎     2     ...e/reduce.jl:0; mapreduce_impl(f::...\n",
      "    ╎    ╎    ╎    ╎     13    ...e/reduce.jl:645; mapreduce_impl(f::...\n",
      "    ╎    ╎    ╎    ╎    ╎ 13    @Base/range.jl:22; Colon\n",
      "    ╎    ╎    ╎    ╎    ╎  13    @Base/range.jl:24; _colon\n",
      "    ╎    ╎    ╎    ╎    ╎   13    ...e/range.jl:369; StepRange\n",
      "   3╎    ╎    ╎    ╎    ╎    13    .../range.jl:316; StepRange\n",
      "   1╎    ╎    ╎    ╎    ╎     1     .../range.jl:321; steprange_last(...\n",
      "    ╎    ╎    ╎    ╎    ╎     4     .../range.jl:334; steprange_last(...\n",
      "    ╎    ╎    ╎    ╎    ╎    ╎ 4     ...rators.jl:382; >\n",
      "   4╎    ╎    ╎    ╎    ╎    ╎  4     @Base/int.jl:83; <\n",
      "   4╎    ╎    ╎    ╎    ╎     4     .../range.jl:339; steprange_last(...\n",
      "    ╎    ╎    ╎    ╎    ╎     1     .../range.jl:346; steprange_last(...\n",
      "   1╎    ╎    ╎    ╎    ╎    ╎ 1     @Base/int.jl:289; rem\n",
      "    ╎    ╎    ╎    ╎     146   ...e/reduce.jl:646; mapreduce_impl(f::...\n",
      "    ╎    ╎    ╎    ╎    ╎ 146   ...e/reduce.jl:619; _fast\n",
      " 146╎    ╎    ╎    ╎    ╎  146   ...entials.jl:489; ifelse\n",
      "   2╎    ╎    ╎    ╎     222   ...e/reduce.jl:650; mapreduce_impl(f::...\n",
      "    ╎    ╎    ╎    ╎    ╎ 220   @Base/range.jl:883; iterate\n",
      " 220╎    ╎    ╎    ╎    ╎  220   ...omotion.jl:477; ==\n",
      "    ╎    ╎    ╎    ╎     1     ...e/reduce.jl:651; mapreduce_impl(f::...\n",
      "    ╎    ╎    ╎    ╎    ╎ 1     ...actarray.jl:668; checkbounds\n",
      "    ╎    ╎    ╎    ╎    ╎  1     ...ctarray.jl:653; checkbounds\n",
      "    ╎    ╎    ╎    ╎    ╎   1     ...ctarray.jl:727; checkindex\n",
      "   1╎    ╎    ╎    ╎    ╎    1     @Base/int.jl:481; <=\n",
      "    ╎    ╎    ╎    ╎     10    ...e/reduce.jl:655; mapreduce_impl(f::...\n",
      "    ╎    ╎    ╎    ╎    ╎ 10    @Base/math.jl:760; max\n",
      "    ╎    ╎    ╎    ╎    ╎  3     @Base/bool.jl:154; <\n",
      "   3╎    ╎    ╎    ╎    ╎   3     @Base/bool.jl:38; &\n",
      "   5╎    ╎    ╎    ╎    ╎  5     ...entials.jl:489; ifelse\n",
      "    ╎    ╎    ╎    ╎    ╎  1     ...e/float.jl:496; isnan\n",
      "   1╎    ╎    ╎    ╎    ╎   1     ...e/float.jl:411; !=\n",
      "    ╎    ╎    ╎    ╎    ╎  1     ...erators.jl:382; >\n",
      "   1╎    ╎    ╎    ╎    ╎   1     ...e/float.jl:412; <\n",
      "    ╎    ╎    ╎    ╎     360   ...e/reduce.jl:658; mapreduce_impl(f::...\n",
      "    ╎    ╎    ╎    ╎    ╎ 360   @Base/math.jl:760; max\n",
      "    ╎    ╎    ╎    ╎    ╎  87    @Base/bool.jl:154; <\n",
      "  48╎    ╎    ╎    ╎    ╎   48    @Base/bool.jl:35; !\n",
      "  39╎    ╎    ╎    ╎    ╎   39    @Base/bool.jl:38; &\n",
      " 239╎    ╎    ╎    ╎    ╎  239   ...entials.jl:489; ifelse\n",
      "  34╎    ╎    ╎    ╎    ╎  34    ...atfuncs.jl:15; signbit\n",
      "    ╎    ╎    ╎    ╎     100   ...e/reduce.jl:659; mapreduce_impl(f::...\n",
      "    ╎    ╎    ╎    ╎    ╎ 100   @Base/range.jl:883; iterate\n",
      " 100╎    ╎    ╎    ╎    ╎  100   ...omotion.jl:477; ==\n",
      "   2╎    ╎    ╎    ╎     3     ...e/reduce.jl:664; mapreduce_impl(f::...\n",
      "    ╎    ╎    ╎    ╎    ╎ 1     ...e/reduce.jl:630; isbadzero\n",
      "   1╎    ╎    ╎    ╎    ╎  1     ...e/float.jl:410; ==\n",
      "   1╎    ╎     1     @Base/simdloop.jl:0; /(A::Matrix{Float64}, B:...\n",
      "    ╎    ╎    1     @Base/range.jl:883; iterate\n",
      "   1╎    ╎     1     @Base/promotion.jl:477; ==\n",
      "   1╎1     ...Algebra/src/blas.jl:1514; gemm!(transA::Char, transB::Ch...\n",
      "    ╎1     ...gebra/src/matmul.jl:148; *(A::Matrix{Float64}, B::Matri...\n",
      "    ╎ 1     @Base/array.jl:378; similar\n",
      "    ╎  1     @Base/boot.jl:469; Array\n",
      "   1╎   1     @Base/boot.jl:461; Array\n",
      "Total snapshots: 10703. Utilization: 100% across all threads and tasks. Use the `groupby` kwarg to break down by thread and/or task\n"
     ]
    }
   ],
   "source": [
    "Profile.print()"
   ]
  },
  {
   "cell_type": "code",
   "execution_count": 26,
   "id": "chicken-arbor",
   "metadata": {},
   "outputs": [
    {
     "data": {
      "text/plain": [
       "squaremany (generic function with 1 method)"
      ]
     },
     "execution_count": 26,
     "metadata": {},
     "output_type": "execute_result"
    }
   ],
   "source": [
    "# Put code into a function\n",
    "function squaremany(A)\n",
    "    for i in 1:10^6\n",
    "        A = A * A\n",
    "        A /= maximum(A)\n",
    "    end\n",
    "    return A\n",
    "end"
   ]
  },
  {
   "cell_type": "code",
   "execution_count": 28,
   "id": "optional-pillow",
   "metadata": {},
   "outputs": [
    {
     "name": "stdout",
     "output_type": "stream",
     "text": [
      "  4.782865 seconds (2.00 M allocations: 13.709 GiB, 8.04% gc time)\n"
     ]
    }
   ],
   "source": [
    "A = randn(30, 30)\n",
    "@time squaremany(A);"
   ]
  },
  {
   "cell_type": "code",
   "execution_count": 33,
   "id": "regulation-orientation",
   "metadata": {},
   "outputs": [
    {
     "data": {
      "text/plain": [
       "squaremany_fast! (generic function with 1 method)"
      ]
     },
     "execution_count": 33,
     "metadata": {},
     "output_type": "execute_result"
    }
   ],
   "source": [
    "# Manual memory management\n",
    "function squaremany_fast!(A)\n",
    "    B = similar(A)\n",
    "    for i in 1:1000000\n",
    "       mul!(B, A, A)\n",
    "       A .= B ./ maximum(B)\n",
    "    end\n",
    "    return A\n",
    "end\n"
   ]
  },
  {
   "cell_type": "code",
   "execution_count": 41,
   "id": "cleared-vacuum",
   "metadata": {},
   "outputs": [
    {
     "name": "stdout",
     "output_type": "stream",
     "text": [
      "  3.246797 seconds (1 allocation: 7.188 KiB)\n"
     ]
    }
   ],
   "source": [
    "A = randn(30, 30)\n",
    "@time squaremany_fast!(A);"
   ]
  },
  {
   "cell_type": "code",
   "execution_count": 39,
   "id": "imported-jordan",
   "metadata": {},
   "outputs": [
    {
     "name": "stdout",
     "output_type": "stream",
     "text": [
      "Overhead ╎ [+additional indent] Count File:Line; Function\n",
      "=========================================================\n",
      "   4╎4    @Base/range.jl:352; steprange_last(start::Int64, st...\n",
      "   1╎1    @Base/reduce.jl:0; _mapreduce(f::typeof(identity),...\n",
      "   1╎1    @Base/reduce.jl:423; _mapreduce(f::typeof(identity),...\n",
      "   1╎1    @Base/reduce.jl:0; mapreduce_impl(f::typeof(identi...\n",
      "    ╎2    @Base/reduce.jl:638; mapreduce_impl(f::typeof(identi...\n",
      "   1╎ 1    @Base/array.jl:924; getindex\n",
      "   1╎ 1    @Base/reduce.jl:636; getindex\n",
      "    ╎1    @Base/reduce.jl:645; mapreduce_impl(f::typeof(identi...\n",
      "    ╎ 1    @Base/range.jl:22; Colon\n",
      "    ╎  1    @Base/range.jl:24; _colon\n",
      "    ╎   1    @Base/range.jl:369; StepRange\n",
      "    ╎    1    @Base/range.jl:316; StepRange\n",
      "   1╎     1    @Base/range.jl:321; steprange_last(start::Int64,...\n",
      "    ╎3213 @Base/task.jl:484; (::IJulia.var\"#15#18\")()\n",
      "    ╎ 3213 ...lia/src/eventloop.jl:8; eventloop(socket::ZMQ.Socket)\n",
      "    ╎  3213 @Base/essentials.jl:726; invokelatest\n",
      "    ╎   3213 @Base/essentials.jl:729; #invokelatest#2\n",
      "    ╎    3213 ...execute_request.jl:67; execute_request(socket::ZMQ.S...\n",
      "    ╎     3213 ...SoftGlobalScope.jl:65; softscope_include_string(m::...\n",
      "    ╎    ╎ 3213 @Base/loading.jl:1428; include_string(mapexpr::typ...\n",
      "   2╎    ╎  3213 @Base/boot.jl:368; eval\n",
      "    ╎    ╎   1114 In[33]:5; squaremany_fast!(A::Matrix{...\n",
      "    ╎    ╎    1114 ...ra/src/matmul.jl:276; mul!\n",
      "   1╎    ╎     1114 ...a/src/matmul.jl:161; mul!\n",
      "   5╎    ╎    ╎ 5    ...a/src/matmul.jl:0; gemm_wrapper!(C::Matrix{...\n",
      "   1╎    ╎    ╎ 1    ...a/src/matmul.jl:639; gemm_wrapper!(C::Matrix{...\n",
      "    ╎    ╎    ╎ 2    ...a/src/matmul.jl:642; gemm_wrapper!(C::Matrix{...\n",
      "    ╎    ╎    ╎  2    ...a/src/matmul.jl:725; lapack_size\n",
      "    ╎    ╎    ╎   2    @Base/char.jl:213; ==\n",
      "   2╎    ╎    ╎    2    ...e/promotion.jl:477; ==\n",
      "    ╎    ╎    ╎ 1    ...a/src/matmul.jl:660; gemm_wrapper!(C::Matrix{...\n",
      "   1╎    ╎    ╎  1    @Base/promotion.jl:477; ==\n",
      "    ╎    ╎    ╎ 1    ...a/src/matmul.jl:667; gemm_wrapper!(C::Matrix{...\n",
      "    ╎    ╎    ╎  1    @Base/promotion.jl:365; promote\n",
      "    ╎    ╎    ╎   1    ...e/promotion.jl:343; _promote\n",
      "    ╎    ╎    ╎    1    @Base/number.jl:7; convert\n",
      "   1╎    ╎    ╎     1    @Base/float.jl:152; Float64\n",
      "   1╎    ╎    ╎ 1103 ...a/src/matmul.jl:674; gemm_wrapper!(C::Matrix{...\n",
      "   2╎    ╎    ╎  2    ...ra/src/blas.jl:1495; gemm!(transA::Char, tra...\n",
      "    ╎    ╎    ╎  1    ...ra/src/blas.jl:1504; gemm!(transA::Char, tra...\n",
      "    ╎    ╎    ╎   1    @Base/char.jl:213; ==\n",
      "   1╎    ╎    ╎    1    ...e/promotion.jl:477; ==\n",
      "    ╎    ╎    ╎  1    ...ra/src/blas.jl:1506; gemm!(transA::Char, tra...\n",
      "    ╎    ╎    ╎   1    @Base/char.jl:213; ==\n",
      "   1╎    ╎    ╎    1    ...e/promotion.jl:477; ==\n",
      "    ╎    ╎    ╎  1    ...ra/src/blas.jl:1507; gemm!(transA::Char, tra...\n",
      "   1╎    ╎    ╎   1    @Base/array.jl:150; size\n",
      "    ╎    ╎    ╎  2    ...ra/src/blas.jl:1508; gemm!(transA::Char, tra...\n",
      "   2╎    ╎    ╎   2    @Base/array.jl:150; size\n",
      "    ╎    ╎    ╎  2    ...ra/src/blas.jl:1513; gemm!(transA::Char, tra...\n",
      "    ╎    ╎    ╎   2    ...nearAlgebra.jl:212; chkstride1\n",
      "   2╎    ╎    ╎    2    ...nearAlgebra.jl:214; _chkstride1\n",
      "1086╎    ╎    ╎  1090 ...ra/src/blas.jl:1514; gemm!(transA::Char, tra...\n",
      "    ╎    ╎    ╎   3    .../essentials.jl:412; cconvert\n",
      "    ╎    ╎    ╎    3    .../refpointer.jl:104; convert\n",
      "   3╎    ╎    ╎     3    @Base/refvalue.jl:8; RefValue\n",
      "    ╎    ╎    ╎   1    ...e/promotion.jl:488; max\n",
      "   1╎    ╎    ╎    1    .../essentials.jl:489; ifelse\n",
      "   3╎    ╎    ╎  3    ...ra/src/blas.jl:1523; gemm!(transA::Char, tra...\n",
      "    ╎    ╎   2097 In[33]:6; squaremany_fast!(A::Matrix{...\n",
      "    ╎    ╎    1201 @Base/broadcast.jl:868; materialize!\n",
      "    ╎    ╎     1201 @Base/broadcast.jl:871; materialize!\n",
      "    ╎    ╎    ╎ 1201 @Base/broadcast.jl:913; copyto!\n",
      "    ╎    ╎    ╎  1    @Base/broadcast.jl:949; copyto!\n",
      "    ╎    ╎    ╎   1    @Base/tuple.jl:398; ==\n",
      "   1╎    ╎    ╎    1    @Base/tuple.jl:403; _eq\n",
      "    ╎    ╎    ╎  17   @Base/broadcast.jl:957; copyto!\n",
      "    ╎    ╎    ╎   17   ...e/broadcast.jl:940; preprocess\n",
      "    ╎    ╎    ╎    17   ...e/broadcast.jl:943; preprocess_args\n",
      "    ╎    ╎    ╎     17   .../broadcast.jl:941; preprocess\n",
      "    ╎    ╎    ╎    ╎ 1    .../broadcast.jl:934; broadcast_unalias\n",
      "    ╎    ╎    ╎    ╎  1    ...ractarray.jl:1427; unalias\n",
      "   1╎    ╎    ╎    ╎   1    ...ractarray.jl:1462; mightalias\n",
      "    ╎    ╎    ╎    ╎ 16   .../broadcast.jl:637; extrude\n",
      "    ╎    ╎    ╎    ╎  16   .../broadcast.jl:586; newindexer\n",
      "    ╎    ╎    ╎    ╎   16   ...broadcast.jl:587; shapeindexer\n",
      "    ╎    ╎    ╎    ╎    16   ...broadcast.jl:591; _newindexer\n",
      "    ╎    ╎    ╎    ╎     16   ...roadcast.jl:592; _newindexer\n",
      "    ╎    ╎    ╎    ╎    ╎ 16   ...perators.jl:282; !=\n",
      "  16╎    ╎    ╎    ╎    ╎  16   ...romotion.jl:477; ==\n",
      "    ╎    ╎    ╎  1174 @Base/broadcast.jl:960; copyto!\n",
      "  47╎    ╎    ╎   75   @Base/simdloop.jl:75; macro expansion\n",
      "  28╎    ╎    ╎    28   @Base/int.jl:83; <\n",
      "    ╎    ╎    ╎   904  @Base/simdloop.jl:77; macro expansion\n",
      "    ╎    ╎    ╎    904  ...e/broadcast.jl:961; macro expansion\n",
      "    ╎    ╎    ╎     127  .../broadcast.jl:597; getindex\n",
      "    ╎    ╎    ╎    ╎ 10   .../broadcast.jl:642; _broadcast_getindex\n",
      "    ╎    ╎    ╎    ╎  10   .../broadcast.jl:666; _getindex\n",
      "    ╎    ╎    ╎    ╎   10   ...broadcast.jl:636; _broadcast_getindex\n",
      "    ╎    ╎    ╎    ╎    10   ...mensional.jl:672; getindex\n",
      "  10╎    ╎    ╎    ╎     10   @Base/array.jl:925; getindex\n",
      "    ╎    ╎    ╎    ╎ 117  .../broadcast.jl:643; _broadcast_getindex\n",
      "    ╎    ╎    ╎    ╎  117  .../broadcast.jl:670; _broadcast_getindex_e...\n",
      " 117╎    ╎    ╎    ╎   117  @Base/float.jl:386; /\n",
      "    ╎    ╎    ╎     777  ...imensional.jl:674; setindex!\n",
      " 777╎    ╎    ╎    ╎ 777  @Base/array.jl:968; setindex!\n",
      "    ╎    ╎    ╎   178  @Base/simdloop.jl:78; macro expansion\n",
      " 178╎    ╎    ╎    178  @Base/int.jl:87; +\n",
      "   6╎    ╎    ╎   17   @Base/simdloop.jl:84; macro expansion\n",
      "    ╎    ╎    ╎    11   ...dimensional.jl:404; iterate\n",
      "  11╎    ╎    ╎     11   ...imensional.jl:423; __inc\n",
      "   9╎    ╎    ╎  9    @Base/simdloop.jl:0; copyto!\n",
      "    ╎    ╎    896  @Base/reducedim.jl:994; maximum\n",
      "    ╎    ╎     896  @Base/reducedim.jl:994; #maximum#780\n",
      "    ╎    ╎    ╎ 896  @Base/reducedim.jl:998; _maximum\n",
      "    ╎    ╎    ╎  896  @Base/reducedim.jl:998; #_maximum#782\n",
      "    ╎    ╎    ╎   896  ...e/reducedim.jl:999; _maximum\n",
      "    ╎    ╎    ╎    896  ...e/reducedim.jl:999; #_maximum#783\n",
      "    ╎    ╎    ╎     896  .../reducedim.jl:357; mapreduce\n",
      "    ╎    ╎    ╎    ╎ 896  .../reducedim.jl:357; #mapreduce#765\n",
      "    ╎    ╎    ╎    ╎  896  .../reducedim.jl:365; _mapreduce_dim\n",
      "   1╎    ╎    ╎    ╎   1    @Base/reduce.jl:0; _mapreduce(f::typeof...\n",
      "    ╎    ╎    ╎    ╎   1    @Base/reduce.jl:425; _mapreduce(f::typeof...\n",
      "    ╎    ╎    ╎    ╎    1    ...ractarray.jl:279; length\n",
      "    ╎    ╎    ╎    ╎     1    @Base/tuple.jl:511; prod\n",
      "   1╎    ╎    ╎    ╎    ╎ 1    @Base/int.jl:88; *\n",
      "   2╎    ╎    ╎    ╎   2    @Base/reduce.jl:426; _mapreduce(f::typeof...\n",
      "    ╎    ╎    ╎    ╎   1    @Base/reduce.jl:431; _mapreduce(f::typeof...\n",
      "   1╎    ╎    ╎    ╎    1    @Base/int.jl:83; <\n",
      "   1╎    ╎    ╎    ╎   891  @Base/reduce.jl:442; _mapreduce(f::typeof...\n",
      "   3╎    ╎    ╎    ╎    3    @Base/reduce.jl:0; mapreduce_impl(f::t...\n",
      "    ╎    ╎    ╎    ╎    18   @Base/reduce.jl:645; mapreduce_impl(f::t...\n",
      "    ╎    ╎    ╎    ╎     18   @Base/range.jl:22; Colon\n",
      "    ╎    ╎    ╎    ╎    ╎ 18   @Base/range.jl:24; _colon\n",
      "    ╎    ╎    ╎    ╎    ╎  18   @Base/range.jl:369; StepRange\n",
      "   2╎    ╎    ╎    ╎    ╎   18   ...e/range.jl:316; StepRange\n",
      "   2╎    ╎    ╎    ╎    ╎    2    ...e/range.jl:321; steprange_last(s...\n",
      "    ╎    ╎    ╎    ╎    ╎    1    ...e/range.jl:329; steprange_last(s...\n",
      "   1╎    ╎    ╎    ╎    ╎     1    ...motion.jl:477; ==\n",
      "    ╎    ╎    ╎    ╎    ╎    1    ...e/range.jl:331; steprange_last(s...\n",
      "   1╎    ╎    ╎    ╎    ╎     1    ...motion.jl:477; ==\n",
      "    ╎    ╎    ╎    ╎    ╎    4    ...e/range.jl:334; steprange_last(s...\n",
      "    ╎    ╎    ╎    ╎    ╎     4    ...rators.jl:382; >\n",
      "   4╎    ╎    ╎    ╎    ╎    ╎ 4    @Base/int.jl:83; <\n",
      "   2╎    ╎    ╎    ╎    ╎    2    ...e/range.jl:339; steprange_last(s...\n",
      "    ╎    ╎    ╎    ╎    ╎    2    ...e/range.jl:346; steprange_last(s...\n",
      "   2╎    ╎    ╎    ╎    ╎     2    @Base/int.jl:289; rem\n",
      "   2╎    ╎    ╎    ╎    ╎    4    ...e/range.jl:349; steprange_last(s...\n",
      "   2╎    ╎    ╎    ╎    ╎     2    @Base/int.jl:86; -\n",
      "    ╎    ╎    ╎    ╎    135  @Base/reduce.jl:646; mapreduce_impl(f::t...\n",
      "    ╎    ╎    ╎    ╎     135  ...e/reduce.jl:619; _fast\n",
      " 135╎    ╎    ╎    ╎    ╎ 135  ...sentials.jl:489; ifelse\n",
      "   4╎    ╎    ╎    ╎    254  @Base/reduce.jl:650; mapreduce_impl(f::t...\n",
      "    ╎    ╎    ╎    ╎     250  @Base/range.jl:883; iterate\n",
      " 250╎    ╎    ╎    ╎    ╎ 250  ...romotion.jl:477; ==\n",
      "    ╎    ╎    ╎    ╎    3    @Base/reduce.jl:651; mapreduce_impl(f::t...\n",
      "   1╎    ╎    ╎    ╎     1    ...actarray.jl:666; checkbounds\n",
      "    ╎    ╎    ╎    ╎     2    ...actarray.jl:668; checkbounds\n",
      "    ╎    ╎    ╎    ╎    ╎ 2    ...actarray.jl:653; checkbounds\n",
      "    ╎    ╎    ╎    ╎    ╎  2    ...actarray.jl:727; checkindex\n",
      "   2╎    ╎    ╎    ╎    ╎   2    @Base/int.jl:481; <=\n",
      "    ╎    ╎    ╎    ╎    9    @Base/reduce.jl:655; mapreduce_impl(f::t...\n",
      "    ╎    ╎    ╎    ╎     9    @Base/math.jl:760; max\n",
      "    ╎    ╎    ╎    ╎    ╎ 4    @Base/bool.jl:154; <\n",
      "   3╎    ╎    ╎    ╎    ╎  3    @Base/bool.jl:35; !\n",
      "   1╎    ╎    ╎    ╎    ╎  1    @Base/bool.jl:38; &\n",
      "    ╎    ╎    ╎    ╎    ╎ 3    @Base/float.jl:496; isnan\n",
      "   3╎    ╎    ╎    ╎    ╎  3    @Base/float.jl:411; !=\n",
      "    ╎    ╎    ╎    ╎    ╎ 2    ...perators.jl:382; >\n",
      "   2╎    ╎    ╎    ╎    ╎  2    @Base/float.jl:412; <\n",
      "    ╎    ╎    ╎    ╎    1    @Base/reduce.jl:656; mapreduce_impl(f::t...\n",
      "    ╎    ╎    ╎    ╎     1    @Base/range.jl:879; iterate\n",
      "    ╎    ╎    ╎    ╎    ╎ 1    @Base/range.jl:654; isempty\n",
      "    ╎    ╎    ╎    ╎    ╎  1    ...perators.jl:382; >\n",
      "   1╎    ╎    ╎    ╎    ╎   1    @Base/int.jl:83; <\n",
      "    ╎    ╎    ╎    ╎    1    @Base/reduce.jl:657; mapreduce_impl(f::t...\n",
      "   1╎    ╎    ╎    ╎     1    @Base/array.jl:924; getindex\n",
      "    ╎    ╎    ╎    ╎    370  @Base/reduce.jl:658; mapreduce_impl(f::t...\n",
      "    ╎    ╎    ╎    ╎     370  @Base/math.jl:760; max\n",
      "    ╎    ╎    ╎    ╎    ╎ 75   @Base/bool.jl:154; <\n",
      "  34╎    ╎    ╎    ╎    ╎  34   @Base/bool.jl:35; !\n",
      "  41╎    ╎    ╎    ╎    ╎  41   @Base/bool.jl:38; &\n",
      " 258╎    ╎    ╎    ╎    ╎ 258  ...sentials.jl:489; ifelse\n",
      "  37╎    ╎    ╎    ╎    ╎ 37   ...oatfuncs.jl:15; signbit\n",
      "    ╎    ╎    ╎    ╎    96   @Base/reduce.jl:659; mapreduce_impl(f::t...\n",
      "    ╎    ╎    ╎    ╎     96   @Base/range.jl:883; iterate\n",
      "  96╎    ╎    ╎    ╎    ╎ 96   ...romotion.jl:477; ==\n",
      "Total snapshots: 3227. Utilization: 100% across all threads and tasks. Use the `groupby` kwarg to break down by thread and/or task\n"
     ]
    }
   ],
   "source": [
    "Profile.clear()\n",
    "@profile squaremany_fast!(A);\n",
    "Profile.print()"
   ]
  },
  {
   "cell_type": "markdown",
   "id": "polar-negative",
   "metadata": {},
   "source": [
    "# Distributed Computing"
   ]
  },
  {
   "cell_type": "code",
   "execution_count": 42,
   "id": "worse-terror",
   "metadata": {},
   "outputs": [],
   "source": [
    "using Distributed"
   ]
  },
  {
   "cell_type": "code",
   "execution_count": 43,
   "id": "charming-insertion",
   "metadata": {},
   "outputs": [
    {
     "data": {
      "text/plain": [
       "1"
      ]
     },
     "execution_count": 43,
     "metadata": {},
     "output_type": "execute_result"
    }
   ],
   "source": [
    "nworkers()"
   ]
  },
  {
   "cell_type": "code",
   "execution_count": 44,
   "id": "cloudy-huntington",
   "metadata": {},
   "outputs": [
    {
     "data": {
      "text/plain": [
       "4-element Vector{Int64}:\n",
       " 2\n",
       " 3\n",
       " 4\n",
       " 5"
      ]
     },
     "execution_count": 44,
     "metadata": {},
     "output_type": "execute_result"
    }
   ],
   "source": [
    "addprocs(4)"
   ]
  },
  {
   "cell_type": "code",
   "execution_count": 46,
   "id": "liked-desert",
   "metadata": {},
   "outputs": [
    {
     "data": {
      "text/plain": [
       "4"
      ]
     },
     "execution_count": 46,
     "metadata": {},
     "output_type": "execute_result"
    }
   ],
   "source": [
    "nworkers()"
   ]
  },
  {
   "cell_type": "code",
   "execution_count": 47,
   "id": "welcome-threshold",
   "metadata": {},
   "outputs": [
    {
     "data": {
      "text/plain": [
       "10-element Vector{Int64}:\n",
       "  1\n",
       "  2\n",
       "  3\n",
       "  4\n",
       "  5\n",
       "  6\n",
       "  7\n",
       "  8\n",
       "  9\n",
       " 10"
      ]
     },
     "execution_count": 47,
     "metadata": {},
     "output_type": "execute_result"
    }
   ],
   "source": [
    "# serial `map`\n",
    "a = [i for i in 1:10]"
   ]
  },
  {
   "cell_type": "code",
   "execution_count": 53,
   "id": "sharing-welding",
   "metadata": {},
   "outputs": [
    {
     "data": {
      "text/plain": [
       "10-element Vector{Int64}:\n",
       "  3\n",
       "  5\n",
       "  7\n",
       "  9\n",
       " 11\n",
       " 13\n",
       " 15\n",
       " 17\n",
       " 19\n",
       " 21"
      ]
     },
     "execution_count": 53,
     "metadata": {},
     "output_type": "execute_result"
    }
   ],
   "source": [
    "b = map(x -> 2x + 1, a)"
   ]
  },
  {
   "cell_type": "code",
   "execution_count": 57,
   "id": "blank-extent",
   "metadata": {},
   "outputs": [
    {
     "data": {
      "text/plain": [
       "10-element Vector{Int64}:\n",
       "  3\n",
       "  5\n",
       "  7\n",
       "  9\n",
       " 11\n",
       " 13\n",
       " 15\n",
       " 17\n",
       " 19\n",
       " 21"
      ]
     },
     "execution_count": 57,
     "metadata": {},
     "output_type": "execute_result"
    }
   ],
   "source": [
    "c = pmap(x -> 2x + 1, a)"
   ]
  },
  {
   "cell_type": "code",
   "execution_count": 60,
   "id": "continental-blues",
   "metadata": {},
   "outputs": [
    {
     "name": "stdout",
     "output_type": "stream",
     "text": [
      " 15.100866 seconds (117.63 k allocations: 6.013 MiB, 0.47% compilation time)\n"
     ]
    },
    {
     "data": {
      "text/plain": [
       "10-element Vector{Int64}:\n",
       "  3\n",
       "  5\n",
       "  7\n",
       "  9\n",
       " 11\n",
       " 13\n",
       " 15\n",
       " 17\n",
       " 19\n",
       " 21"
      ]
     },
     "execution_count": 60,
     "metadata": {},
     "output_type": "execute_result"
    }
   ],
   "source": [
    "@time c = pmap(x -> (sleep(5); 2x + 1), a)"
   ]
  },
  {
   "cell_type": "markdown",
   "id": "alpine-spread",
   "metadata": {},
   "source": [
    "# Multi-threading"
   ]
  },
  {
   "cell_type": "code",
   "execution_count": 61,
   "id": "placed-beijing",
   "metadata": {},
   "outputs": [
    {
     "data": {
      "text/plain": [
       "1"
      ]
     },
     "execution_count": 61,
     "metadata": {},
     "output_type": "execute_result"
    }
   ],
   "source": [
    "Threads.nthreads()"
   ]
  },
  {
   "cell_type": "code",
   "execution_count": 66,
   "id": "dominican-hacker",
   "metadata": {},
   "outputs": [],
   "source": [
    "a = [i for i in 1:10]\n",
    "c = similar(a)\n",
    "Threads.@threads for i = 1:10\n",
    "           c[i] = 2*a[i] + 1\n",
    "end"
   ]
  },
  {
   "cell_type": "code",
   "execution_count": null,
   "id": "patent-trading",
   "metadata": {},
   "outputs": [],
   "source": []
  },
  {
   "cell_type": "code",
   "execution_count": null,
   "id": "about-combat",
   "metadata": {},
   "outputs": [],
   "source": []
  }
 ],
 "metadata": {
  "kernelspec": {
   "display_name": "Julia 1.8.4",
   "language": "julia",
   "name": "julia-1.8"
  },
  "language_info": {
   "file_extension": ".jl",
   "mimetype": "application/julia",
   "name": "julia",
   "version": "1.8.4"
  }
 },
 "nbformat": 4,
 "nbformat_minor": 5
}
